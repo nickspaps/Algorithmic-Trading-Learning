{
 "cells": [
  {
   "cell_type": "markdown",
   "metadata": {},
   "source": [
    "# Run locally or in QuantConnect in a .ipynb file"
   ]
  },
  {
   "cell_type": "code",
   "execution_count": null,
   "metadata": {},
   "outputs": [],
   "source": [
    "%matplotlib inline\n",
    "# Imports\n",
    "from clr import AddReference\n",
    "AddReference(\"System\")\n",
    "AddReference(\"QuantConnect.Common\")\n",
    "AddReference(\"QuantConnect.Indicators\")\n",
    "from System import *\n",
    "from QuantConnect import *\n",
    "from QuantConnect.Data.Market import TradeBar, QuoteBar\n",
    "from QuantConnect.Indicators import *\n",
    "from datetime import datetime, timedelta\n",
    "import matplotlib.pyplot as plt\n",
    "import pandas as pd\n",
    "# Create an instance\n",
    "qb = QuantBook()"
   ]
  },
  {
   "cell_type": "code",
   "execution_count": null,
   "metadata": {},
   "outputs": [],
   "source": [
    "import matplotlib.pyplot as plt\n",
    "import matplotlib.cm as cm\n",
    "import numpy as np\n",
    "import pandas as pd\n",
    "import statsmodels.api as sm\n",
    "from math import floor\n",
    "plt.style.use('seaborn-whitegrid')\n",
    "from sklearn import linear_model"
   ]
  },
  {
   "cell_type": "markdown",
   "metadata": {},
   "source": [
    "### Step 1:  Find two likely cointegrated stocks\n",
    "Two stocks we choose here is XOM and CVX. They are two American multinational oil and gas corporations. They are of the same industry."
   ]
  },
  {
   "cell_type": "code",
   "execution_count": null,
   "metadata": {},
   "outputs": [],
   "source": [
    "syls = [\"XOM\",\"CVX\"]\n",
    "qb.AddEquity(syls[0])\n",
    "qb.AddEquity(syls[1])\n",
    "start = datetime(2003,1,1)\n",
    "end = datetime(2009,1,1)\n",
    "x = qb.History([syls[0]],start ,end, Resolution.Daily).loc[syls[0]]['close']\n",
    "y = qb.History([syls[1]],start ,end, Resolution.Daily).loc[syls[1]]['close']\n",
    "Calculate the logarithm of each price to reduce variance and adjust to a comparable scale\n",
    "price = pd.concat([x, y], axis=1)\n",
    "price.columns = syls \n",
    "lp = np.log(price)\n",
    "Plot\n",
    "price.plot(figsize = (15,10))"
   ]
  },
  {
   "cell_type": "markdown",
   "metadata": {},
   "source": [
    "### Step 2: Estimate Spreads\n",
    "If we have two stocks, X & Y, that are cointegrated in their price movements, then any divergence in the spread from 0 should be temporary and mean-reverting. Next step we will estimate the spread series."
   ]
  },
  {
   "cell_type": "code",
   "execution_count": null,
   "metadata": {},
   "outputs": [],
   "source": [
    "def reg(x, y):\n",
    "    regr = LinearRegression()\n",
    "    x = x.values.reshape(-1, 1)  # Convertir x en una matriz de una columna\n",
    "    regr.fit(x, y)    \n",
    "    beta = regr.coef_[0]  # Obtener el coeficiente beta\n",
    "    alpha = regr.intercept_  # Obtener el intercepto (alpha)\n",
    "    spread = y - (x.flatten() * beta + alpha)  # Calcular el spread\n",
    "    return spread\n",
    "\n",
    "# Suponiendo que 'lp' es un DataFrame con los precios\n",
    "x = lp['XOM']\n",
    "y = lp['CVX']\n",
    "\n",
    "# Calcular el spread\n",
    "spread = reg(x, y)\n",
    "\n",
    "# Graficar la serie del spread\n",
    "spread.plot(figsize=(15,10))\n",
    "plt.ylabel('spread')\n",
    "plt.show()"
   ]
  },
  {
   "cell_type": "markdown",
   "metadata": {},
   "source": [
    "### Step 3: Check Stationarity\n",
    "From the above plot, the first order difference $Spread_t=log(y_t) -\\beta log(x_t)-\\alpha$ seems to be stationary and mean-reverting. Next we will check if it is stationary. We use the ADF test to check the stationarity of the spread series."
   ]
  },
  {
   "cell_type": "code",
   "execution_count": null,
   "metadata": {},
   "outputs": [],
   "source": [
    "# check if the spread is stationary \n",
    "adf = sm.tsa.stattools.adfuller(spread, maxlag=1)\n",
    "print('ADF test statistic: %.02f' % adf[0])\n",
    "for key, value in adf[4].items():\n",
    "    print('\\t%s: %.3f' % (key, value))\n",
    "print('p-value: %.03f' % adf[1])\n"
   ]
  },
  {
   "cell_type": "markdown",
   "metadata": {},
   "source": [
    "### Step 4: Create Trading Signal\n",
    "We have statistical significance that both assets are cointegrated. Its time to create trading signals, backtest and analyaze the results. "
   ]
  },
  {
   "cell_type": "markdown",
   "metadata": {},
   "source": [
    "# Run on QuantConnect"
   ]
  },
  {
   "cell_type": "code",
   "execution_count": null,
   "metadata": {},
   "outputs": [],
   "source": [
    "# region imports\n",
    "from AlgorithmImports import *\n",
    "# endregion\n",
    "from sklearn import linear_model\n",
    "import numpy as np\n",
    "import pandas as pd\n",
    "from scipy import stats\n",
    "from math import floor\n",
    "from datetime import timedelta\n",
    "\n",
    "\n",
    "class PairsTradingAlgorithm(QCAlgorithm):\n",
    "     # Initialize the parameters\n",
    "    def Initialize(self):\n",
    "        \n",
    "        self.SetStartDate(2009,1,1)\n",
    "        self.SetEndDate(2017,1,1)\n",
    "        self.SetCash(10000)\n",
    "        self.numdays = 250  # set the length of training period\n",
    "        tickers = [\"XOM\", \"CVX\"]\n",
    "        self.symbols = []\n",
    "        \n",
    "        # Get Symbol and RollingWindow Objects\n",
    "        self.threshold = 1.\n",
    "        for i in tickers:\n",
    "            self.symbols.append(self.AddSecurity(SecurityType.Equity, i, Resolution.Daily).Symbol)\n",
    "        for i in self.symbols:\n",
    "            i.hist_window = RollingWindow[TradeBar](self.numdays) \n",
    "\n",
    "    # Initialize the backtest\n",
    "    def OnData(self, data):\n",
    "\n",
    "        # Verify for symbols data availability and Add data to the RollingWindow Objects\n",
    "        if not (data.ContainsKey(\"CVX\") and data.ContainsKey(\"XOM\")): return\n",
    "        for symbol in self.symbols:\n",
    "            symbol.hist_window.Add(data[symbol])\n",
    "        \n",
    "        # Every new rolling_window object transform to a series object\n",
    "        price_x = pd.Series([float(i.Close) for i in self.symbols[0].hist_window], \n",
    "                             index = [i.Time for i in self.symbols[0].hist_window])\n",
    "                             \n",
    "        price_y = pd.Series([float(i.Close) for i in self.symbols[1].hist_window], \n",
    "                             index = [i.Time for i in self.symbols[1].hist_window])\n",
    "        if len(price_x) < 250: return\n",
    "\n",
    "        # Calculate the spread using a linear regression\n",
    "        spread = self.regr(np.log(price_x), np.log(price_y))\n",
    "        mean = np.mean(spread)\n",
    "        std = np.std(spread)\n",
    "        ratio = floor(self.Portfolio[self.symbols[1]].Price / self.Portfolio[self.symbols[0]].Price)\n",
    "        \n",
    "        \n",
    "        # Define entry and exit signals\n",
    "        if spread[-1] > mean + self.threshold * std:\n",
    "            if not self.Portfolio[self.symbols[0]].Quantity > 0 and not self.Portfolio[self.symbols[0]].Quantity < 0:\n",
    "                self.Sell(self.symbols[1], 100) \n",
    "                self.Buy(self.symbols[0],  ratio * 100) # Balance the position size with the ratio\n",
    "        \n",
    "        elif spread[-1] < mean - self.threshold * std:\n",
    "            if not self.Portfolio[self.symbols[0]].Quantity < 0 and not self.Portfolio[self.symbols[0]].Quantity > 0:\n",
    "                self.Sell(self.symbols[0], 100)\n",
    "                self.Buy(self.symbols[1], ratio * 100) \n",
    "\n",
    "        else:\n",
    "            self.Liquidate()\n",
    "\n",
    "    \n",
    "    def regr(self,x,y):\n",
    "        regr = linear_model.LinearRegression()\n",
    "        x_constant = np.column_stack([np.ones(len(x)), x])\n",
    "        regr.fit(x_constant, y)\n",
    "        beta = regr.coef_[0]\n",
    "        alpha = regr.intercept_\n",
    "        spread = y - x*beta - alpha\n",
    "        return spread"
   ]
  }
 ],
 "metadata": {
  "language_info": {
   "name": "python"
  }
 },
 "nbformat": 4,
 "nbformat_minor": 2
}
